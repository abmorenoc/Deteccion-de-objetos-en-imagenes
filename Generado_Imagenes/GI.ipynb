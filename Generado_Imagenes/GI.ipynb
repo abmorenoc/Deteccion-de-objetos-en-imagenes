{
 "cells": [
  {
   "cell_type": "markdown",
   "metadata": {},
   "source": [
    "# Generador de imagenes \n",
    "\n",
    "El objetivo es generar imagenes para etc etc ...."
   ]
  },
  {
   "cell_type": "code",
   "execution_count": 1,
   "metadata": {
    "collapsed": true
   },
   "outputs": [],
   "source": [
    "from PIL import Image\n",
    "from random import randrange\n",
    "from numpy import random"
   ]
  },
  {
   "cell_type": "markdown",
   "metadata": {},
   "source": [
    "\n",
    "\n",
    "#### Pegar imagen del objeto a detectar en varias imagenes\n",
    "\n"
   ]
  },
  {
   "cell_type": "code",
   "execution_count": 9,
   "metadata": {},
   "outputs": [],
   "source": [
    "lista = ['imagenes/playita.jpg', 'imagenes/playa.jpg', 'imagenes/ciudad.jpg', 'imagenes/calle.jpg', 'imagenes/rancho.jpg']\n",
    "num_generar = 50\n",
    "for i in range(num_generar):\n",
    "    #imagen de fondo\n",
    "    fondo = Image.open(random.choice(lista))\n",
    "\n",
    "    #imagen tipo .png para colocar sobre el fondo\n",
    "    objeto = Image.open('imagenes/bud.png')\n",
    "    objeto = objeto.resize((objeto.width//10,objeto.height//10))\n",
    "    objeto = objeto.rotate(randrange(180))\n",
    "\n",
    "    #posicion random dentro de la imagen\n",
    "    pos = ((fondo.width - randrange(fondo.width-objeto.width)), (fondo.height - randrange(fondo.height-objeto.height)))\n",
    "\n",
    "    img_nueva = fondo.copy()\n",
    "    img_nueva.paste(objeto, pos, objeto)\n",
    "    name = ('Imagenes_generadas/' + str(i) + '.jpg')\n",
    "    img_nueva.save(name)\n"
   ]
  },
  {
   "cell_type": "markdown",
   "metadata": {},
   "source": [
    "#### Rotar imagen\n",
    "\n",
    "Rotar una imagen que contenga alguno de los obejetos que se pretende detectar"
   ]
  },
  {
   "cell_type": "code",
   "execution_count": 11,
   "metadata": {},
   "outputs": [],
   "source": [
    "imag = Image.open('imagenes/mcc.jpg')\n",
    "\n",
    "imag_rotada = imag.rotate(randrange(180))\n",
    "\n",
    "imag_rotada.save('Imagenes_generadas/mcc_rotada.jpg')"
   ]
  }
 ],
 "metadata": {
  "kernelspec": {
   "display_name": "Python 3",
   "language": "python",
   "name": "python3"
  },
  "language_info": {
   "codemirror_mode": {
    "name": "ipython",
    "version": 3
   },
   "file_extension": ".py",
   "mimetype": "text/x-python",
   "name": "python",
   "nbconvert_exporter": "python",
   "pygments_lexer": "ipython3",
   "version": "3.6.2"
  }
 },
 "nbformat": 4,
 "nbformat_minor": 2
}
