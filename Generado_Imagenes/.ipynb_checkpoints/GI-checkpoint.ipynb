{
 "cells": [
  {
   "cell_type": "markdown",
   "metadata": {},
   "source": [
    "# Generador de imagenes \n",
    "\n",
    "El objetivo es generar imagenes para etc etc ...."
   ]
  },
  {
   "cell_type": "code",
   "execution_count": 30,
   "metadata": {},
   "outputs": [],
   "source": [
    "from PIL import Image\n",
    "from random import randrange"
   ]
  },
  {
   "cell_type": "markdown",
   "metadata": {},
   "source": [
    "\n",
    "\n",
    "#### Pegar imagen del objeto a detectar en varias imagenes\n",
    "\n"
   ]
  },
  {
   "cell_type": "code",
   "execution_count": 33,
   "metadata": {},
   "outputs": [],
   "source": [
    "#imagen de fondo\n",
    "fondo = Image.open('images/playita.jpg')\n",
    "\n",
    "#imagen tipo .png para colocar sobre el fondo\n",
    "objeto = Image.open('images/bud.png')\n",
    "objeto = objeto.resize((objeto.width//10,objeto.height//10))\n",
    "\n",
    "#posicion random dentro de la imagen\n",
    "pos = ((fondo.width - randrange(fondo.width-objeto.width)), (fondo.height - randrange(fondo.height-objeto.height)))\n",
    "\n",
    "img_nueva = fondo.copy()\n",
    "img_nueva.paste(objeto, pos, objeto)\n",
    "img_nueva.save('images/playita_bud.jpg')\n"
   ]
  },
  {
   "cell_type": "markdown",
   "metadata": {},
   "source": [
    "#### Rotar imagen\n",
    "\n",
    "Rotar una imagen que contenga alguno de los obejetos que se pretende detectar"
   ]
  },
  {
   "cell_type": "code",
   "execution_count": 37,
   "metadata": {},
   "outputs": [],
   "source": [
    "imag = Image.open('images/mcc.jpg')\n",
    "\n",
    "imag_rotada = imag.rotate(randrange(180))\n",
    "\n",
    "imag_rotada.save('images/mcc_rotada.jpg')"
   ]
  }
 ],
 "metadata": {
  "kernelspec": {
   "display_name": "Python 3",
   "language": "python",
   "name": "python3"
  },
  "language_info": {
   "codemirror_mode": {
    "name": "ipython",
    "version": 3
   },
   "file_extension": ".py",
   "mimetype": "text/x-python",
   "name": "python",
   "nbconvert_exporter": "python",
   "pygments_lexer": "ipython3",
   "version": "3.6.2"
  }
 },
 "nbformat": 4,
 "nbformat_minor": 2
}
